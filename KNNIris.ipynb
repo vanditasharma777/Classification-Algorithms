{
  "nbformat": 4,
  "nbformat_minor": 0,
  "metadata": {
    "colab": {
      "name": "KNNIris.ipynb",
      "provenance": [],
      "authorship_tag": "ABX9TyOXOtLJi60ExnXJrmSl3Faq",
      "include_colab_link": true
    },
    "kernelspec": {
      "name": "python3",
      "display_name": "Python 3"
    }
  },
  "cells": [
    {
      "cell_type": "markdown",
      "metadata": {
        "id": "view-in-github",
        "colab_type": "text"
      },
      "source": [
        "<a href=\"https://colab.research.google.com/github/vanditasharma777/KNN-Classification/blob/master/KNNIris.ipynb\" target=\"_parent\"><img src=\"https://colab.research.google.com/assets/colab-badge.svg\" alt=\"Open In Colab\"/></a>"
      ]
    },
    {
      "cell_type": "code",
      "metadata": {
        "id": "iym0gdv4KY2d",
        "colab_type": "code",
        "colab": {
          "base_uri": "https://localhost:8080/",
          "height": 306
        },
        "outputId": "4608704e-9bf5-4acd-9431-edfd8f840c4d"
      },
      "source": [
        "#import necessary packages\n",
        "import pandas as pd\n",
        "from sklearn import datasets\n",
        "\n",
        "#provide dataset\n",
        "iris = datasets.load_iris()\n",
        "print(type(iris))\n",
        "\n",
        "#assign colunmn names to dataset\n",
        "headernames=['sepal-length' , 'sepal-width', 'petal-length' ,'petal-width' 'class']\n",
        "# data preprocessing\n",
        "X = iris.data #create feature matrix\n",
        "Y = iris.target #create target vector\n",
        "\n",
        "\n",
        "#divide data into training and test data\n",
        "from sklearn.model_selection import train_test_split\n",
        "X_train,X_test,Y_train,Y_test=train_test_split(X,Y,test_size = 0.25)\n",
        "# data scaling\n",
        "from sklearn.preprocessing import StandardScaler\n",
        "scaler = StandardScaler()\n",
        "scaler.fit(X_train)\n",
        "X_train = scaler.transform(X_train)\n",
        "X_test = scaler.transform(X_test)\n",
        "\n",
        "# train model with help of KNeighborsClassifier of sklearn\n",
        "from sklearn.neighbors import KNeighborsClassifier\n",
        "classifier = KNeighborsClassifier()\n",
        "classifier.fit(X_train,Y_train)\n",
        "\n",
        "# make prediction\n",
        "Y_pred = classifier.predict(X_test)\n",
        "\n",
        "# Print the result\n",
        "from sklearn.metrics import classification_report, confusion_matrix,accuracy_score\n",
        "result = confusion_matrix(Y_test,Y_pred)\n",
        "print(\"Confusion Matrix:\")\n",
        "print(result)\n",
        "result1=classification_report(Y_test,Y_pred)\n",
        "print(\"Classification Report:\")\n",
        "print(result1)\n",
        "result2=accuracy_score(Y_test,Y_pred)\n",
        "print(\"Accuracy:\",result2)\n",
        "\n"
      ],
      "execution_count": 1,
      "outputs": [
        {
          "output_type": "stream",
          "text": [
            "<class 'sklearn.utils.Bunch'>\n",
            "Confusion Matrix:\n",
            "[[11  0  0]\n",
            " [ 0 15  0]\n",
            " [ 0  0 12]]\n",
            "Classification Report:\n",
            "              precision    recall  f1-score   support\n",
            "\n",
            "           0       1.00      1.00      1.00        11\n",
            "           1       1.00      1.00      1.00        15\n",
            "           2       1.00      1.00      1.00        12\n",
            "\n",
            "    accuracy                           1.00        38\n",
            "   macro avg       1.00      1.00      1.00        38\n",
            "weighted avg       1.00      1.00      1.00        38\n",
            "\n",
            "Accuracy: 1.0\n"
          ],
          "name": "stdout"
        }
      ]
    },
    {
      "cell_type": "code",
      "metadata": {
        "id": "1KTK2CbKKbxY",
        "colab_type": "code",
        "colab": {}
      },
      "source": [
        ""
      ],
      "execution_count": 0,
      "outputs": []
    }
  ]
}